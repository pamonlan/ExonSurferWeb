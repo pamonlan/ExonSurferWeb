{
 "cells": [
  {
   "cell_type": "code",
   "execution_count": 39,
   "id": "f6860630",
   "metadata": {},
   "outputs": [],
   "source": [
    "import pandas as pd\n",
    "\n",
    "import plotly.graph_objects as go\n",
    "# example test data\n",
    "transcripts ,exons = get_exon_transcript_information(species=\"homo_sapiens\", symbol=\"BRCA2\")\n",
    "primers = {}\n"
   ]
  },
  {
   "cell_type": "code",
   "execution_count": 40,
   "id": "f0e20ddd",
   "metadata": {
    "scrolled": true
   },
   "outputs": [
    {
     "data": {
      "application/vnd.plotly.v1+json": {
       "config": {
        "plotlyServerURL": "https://plot.ly"
       },
       "data": [],
       "layout": {
        "height": 500,
        "shapes": [
         {
          "line": {
           "color": "black",
           "width": 2
          },
          "type": "line",
          "x0": 32315086,
          "x1": 32400268,
          "y0": 0.25,
          "y1": 0.25
         },
         {
          "fillcolor": "#e41a1c",
          "opacity": 1,
          "type": "rect",
          "x0": 32315086,
          "x1": 32315145,
          "y0": 0,
          "y1": 0.5
         },
         {
          "fillcolor": "#e41a1c",
          "opacity": 1,
          "type": "rect",
          "x0": 32316422,
          "x1": 32316527,
          "y0": 0,
          "y1": 0.5
         },
         {
          "fillcolor": "#e41a1c",
          "opacity": 1,
          "type": "rect",
          "x0": 32319077,
          "x1": 32319325,
          "y0": 0,
          "y1": 0.5
         },
         {
          "fillcolor": "#e41a1c",
          "opacity": 1,
          "type": "rect",
          "x0": 32325076,
          "x1": 32325184,
          "y0": 0,
          "y1": 0.5
         },
         {
          "fillcolor": "#e41a1c",
          "opacity": 1,
          "type": "rect",
          "x0": 32326101,
          "x1": 32326150,
          "y0": 0,
          "y1": 0.5
         },
         {
          "fillcolor": "#e41a1c",
          "opacity": 1,
          "type": "rect",
          "x0": 32326242,
          "x1": 32326282,
          "y0": 0,
          "y1": 0.5
         },
         {
          "fillcolor": "#e41a1c",
          "opacity": 1,
          "type": "rect",
          "x0": 32326499,
          "x1": 32326613,
          "y0": 0,
          "y1": 0.5
         },
         {
          "fillcolor": "#e41a1c",
          "opacity": 1,
          "type": "rect",
          "x0": 32329443,
          "x1": 32329492,
          "y0": 0,
          "y1": 0.5
         },
         {
          "fillcolor": "#e41a1c",
          "opacity": 1,
          "type": "rect",
          "x0": 32330919,
          "x1": 32331030,
          "y0": 0,
          "y1": 0.5
         },
         {
          "fillcolor": "#e41a1c",
          "opacity": 1,
          "type": "rect",
          "x0": 32332272,
          "x1": 32333387,
          "y0": 0,
          "y1": 0.5
         },
         {
          "fillcolor": "#e41a1c",
          "opacity": 1,
          "type": "rect",
          "x0": 32336265,
          "x1": 32341196,
          "y0": 0,
          "y1": 0.5
         },
         {
          "fillcolor": "#e41a1c",
          "opacity": 1,
          "type": "rect",
          "x0": 32344558,
          "x1": 32344653,
          "y0": 0,
          "y1": 0.5
         },
         {
          "fillcolor": "#e41a1c",
          "opacity": 1,
          "type": "rect",
          "x0": 32346827,
          "x1": 32346896,
          "y0": 0,
          "y1": 0.5
         },
         {
          "fillcolor": "#e41a1c",
          "opacity": 1,
          "type": "rect",
          "x0": 32354861,
          "x1": 32355288,
          "y0": 0,
          "y1": 0.5
         },
         {
          "fillcolor": "#e41a1c",
          "opacity": 1,
          "type": "rect",
          "x0": 32356428,
          "x1": 32356609,
          "y0": 0,
          "y1": 0.5
         },
         {
          "fillcolor": "#e41a1c",
          "opacity": 1,
          "type": "rect",
          "x0": 32357742,
          "x1": 32357929,
          "y0": 0,
          "y1": 0.5
         },
         {
          "fillcolor": "#e41a1c",
          "opacity": 1,
          "type": "rect",
          "x0": 32362523,
          "x1": 32362693,
          "y0": 0,
          "y1": 0.5
         },
         {
          "fillcolor": "#e41a1c",
          "opacity": 1,
          "type": "rect",
          "x0": 32363179,
          "x1": 32363533,
          "y0": 0,
          "y1": 0.5
         },
         {
          "fillcolor": "#e41a1c",
          "opacity": 1,
          "type": "rect",
          "x0": 32370402,
          "x1": 32370557,
          "y0": 0,
          "y1": 0.5
         },
         {
          "fillcolor": "#e41a1c",
          "opacity": 1,
          "type": "rect",
          "x0": 32370956,
          "x1": 32371100,
          "y0": 0,
          "y1": 0.5
         },
         {
          "fillcolor": "#e41a1c",
          "opacity": 1,
          "type": "rect",
          "x0": 32376670,
          "x1": 32376791,
          "y0": 0,
          "y1": 0.5
         },
         {
          "fillcolor": "#e41a1c",
          "opacity": 1,
          "type": "rect",
          "x0": 32379317,
          "x1": 32379515,
          "y0": 0,
          "y1": 0.5
         },
         {
          "fillcolor": "#e41a1c",
          "opacity": 1,
          "type": "rect",
          "x0": 32379750,
          "x1": 32379913,
          "y0": 0,
          "y1": 0.5
         },
         {
          "fillcolor": "#e41a1c",
          "opacity": 1,
          "type": "rect",
          "x0": 32380007,
          "x1": 32380145,
          "y0": 0,
          "y1": 0.5
         },
         {
          "fillcolor": "#e41a1c",
          "opacity": 1,
          "type": "rect",
          "x0": 32394689,
          "x1": 32394933,
          "y0": 0,
          "y1": 0.5
         },
         {
          "fillcolor": "#e41a1c",
          "opacity": 1,
          "type": "rect",
          "x0": 32396898,
          "x1": 32397044,
          "y0": 0,
          "y1": 0.5
         },
         {
          "fillcolor": "#e41a1c",
          "opacity": 1,
          "type": "rect",
          "x0": 32398162,
          "x1": 32400268,
          "y0": 0,
          "y1": 0.5
         },
         {
          "line": {
           "color": "black",
           "width": 2
          },
          "type": "line",
          "x0": 32315505,
          "x1": 32333291,
          "y0": 1.25,
          "y1": 1.25
         },
         {
          "fillcolor": "#377eb8",
          "opacity": 1,
          "type": "rect",
          "x0": 32315505,
          "x1": 32315667,
          "y0": 1,
          "y1": 1.5
         },
         {
          "fillcolor": "#377eb8",
          "opacity": 1,
          "type": "rect",
          "x0": 32316422,
          "x1": 32316523,
          "y0": 1,
          "y1": 1.5
         },
         {
          "fillcolor": "#377eb8",
          "opacity": 1,
          "type": "rect",
          "x0": 32319077,
          "x1": 32319325,
          "y0": 1,
          "y1": 1.5
         },
         {
          "fillcolor": "#377eb8",
          "opacity": 1,
          "type": "rect",
          "x0": 32325076,
          "x1": 32325184,
          "y0": 1,
          "y1": 1.5
         },
         {
          "fillcolor": "#377eb8",
          "opacity": 1,
          "type": "rect",
          "x0": 32326101,
          "x1": 32326150,
          "y0": 1,
          "y1": 1.5
         },
         {
          "fillcolor": "#377eb8",
          "opacity": 1,
          "type": "rect",
          "x0": 32326242,
          "x1": 32326282,
          "y0": 1,
          "y1": 1.5
         },
         {
          "fillcolor": "#377eb8",
          "opacity": 1,
          "type": "rect",
          "x0": 32326499,
          "x1": 32326613,
          "y0": 1,
          "y1": 1.5
         },
         {
          "fillcolor": "#377eb8",
          "opacity": 1,
          "type": "rect",
          "x0": 32329443,
          "x1": 32329492,
          "y0": 1,
          "y1": 1.5
         },
         {
          "fillcolor": "#377eb8",
          "opacity": 1,
          "type": "rect",
          "x0": 32330919,
          "x1": 32331030,
          "y0": 1,
          "y1": 1.5
         },
         {
          "fillcolor": "#377eb8",
          "opacity": 1,
          "type": "rect",
          "x0": 32332272,
          "x1": 32333291,
          "y0": 1,
          "y1": 1.5
         },
         {
          "line": {
           "color": "black",
           "width": 2
          },
          "type": "line",
          "x0": 32315508,
          "x1": 32400268,
          "y0": 2.25,
          "y1": 2.25
         },
         {
          "fillcolor": "#4daf4a",
          "opacity": 1,
          "type": "rect",
          "x0": 32315508,
          "x1": 32315667,
          "y0": 2,
          "y1": 2.5
         },
         {
          "fillcolor": "#4daf4a",
          "opacity": 1,
          "type": "rect",
          "x0": 32316422,
          "x1": 32316527,
          "y0": 2,
          "y1": 2.5
         },
         {
          "fillcolor": "#4daf4a",
          "opacity": 1,
          "type": "rect",
          "x0": 32319077,
          "x1": 32319325,
          "y0": 2,
          "y1": 2.5
         },
         {
          "fillcolor": "#4daf4a",
          "opacity": 1,
          "type": "rect",
          "x0": 32325076,
          "x1": 32325184,
          "y0": 2,
          "y1": 2.5
         },
         {
          "fillcolor": "#4daf4a",
          "opacity": 1,
          "type": "rect",
          "x0": 32326101,
          "x1": 32326150,
          "y0": 2,
          "y1": 2.5
         },
         {
          "fillcolor": "#4daf4a",
          "opacity": 1,
          "type": "rect",
          "x0": 32326242,
          "x1": 32326282,
          "y0": 2,
          "y1": 2.5
         },
         {
          "fillcolor": "#4daf4a",
          "opacity": 1,
          "type": "rect",
          "x0": 32326499,
          "x1": 32326613,
          "y0": 2,
          "y1": 2.5
         },
         {
          "fillcolor": "#4daf4a",
          "opacity": 1,
          "type": "rect",
          "x0": 32329443,
          "x1": 32329492,
          "y0": 2,
          "y1": 2.5
         },
         {
          "fillcolor": "#4daf4a",
          "opacity": 1,
          "type": "rect",
          "x0": 32330919,
          "x1": 32331030,
          "y0": 2,
          "y1": 2.5
         },
         {
          "fillcolor": "#4daf4a",
          "opacity": 1,
          "type": "rect",
          "x0": 32332272,
          "x1": 32333387,
          "y0": 2,
          "y1": 2.5
         },
         {
          "fillcolor": "#4daf4a",
          "opacity": 1,
          "type": "rect",
          "x0": 32336265,
          "x1": 32341196,
          "y0": 2,
          "y1": 2.5
         },
         {
          "fillcolor": "#4daf4a",
          "opacity": 1,
          "type": "rect",
          "x0": 32344558,
          "x1": 32344653,
          "y0": 2,
          "y1": 2.5
         },
         {
          "fillcolor": "#4daf4a",
          "opacity": 1,
          "type": "rect",
          "x0": 32346827,
          "x1": 32346896,
          "y0": 2,
          "y1": 2.5
         },
         {
          "fillcolor": "#4daf4a",
          "opacity": 1,
          "type": "rect",
          "x0": 32354861,
          "x1": 32355288,
          "y0": 2,
          "y1": 2.5
         },
         {
          "fillcolor": "#4daf4a",
          "opacity": 1,
          "type": "rect",
          "x0": 32356428,
          "x1": 32356609,
          "y0": 2,
          "y1": 2.5
         },
         {
          "fillcolor": "#4daf4a",
          "opacity": 1,
          "type": "rect",
          "x0": 32357742,
          "x1": 32357929,
          "y0": 2,
          "y1": 2.5
         },
         {
          "fillcolor": "#4daf4a",
          "opacity": 1,
          "type": "rect",
          "x0": 32362523,
          "x1": 32362693,
          "y0": 2,
          "y1": 2.5
         },
         {
          "fillcolor": "#4daf4a",
          "opacity": 1,
          "type": "rect",
          "x0": 32363179,
          "x1": 32363533,
          "y0": 2,
          "y1": 2.5
         },
         {
          "fillcolor": "#4daf4a",
          "opacity": 1,
          "type": "rect",
          "x0": 32370402,
          "x1": 32370557,
          "y0": 2,
          "y1": 2.5
         },
         {
          "fillcolor": "#4daf4a",
          "opacity": 1,
          "type": "rect",
          "x0": 32370956,
          "x1": 32371100,
          "y0": 2,
          "y1": 2.5
         },
         {
          "fillcolor": "#4daf4a",
          "opacity": 1,
          "type": "rect",
          "x0": 32376670,
          "x1": 32376791,
          "y0": 2,
          "y1": 2.5
         },
         {
          "fillcolor": "#4daf4a",
          "opacity": 1,
          "type": "rect",
          "x0": 32379317,
          "x1": 32379515,
          "y0": 2,
          "y1": 2.5
         },
         {
          "fillcolor": "#4daf4a",
          "opacity": 1,
          "type": "rect",
          "x0": 32379750,
          "x1": 32379913,
          "y0": 2,
          "y1": 2.5
         },
         {
          "fillcolor": "#4daf4a",
          "opacity": 1,
          "type": "rect",
          "x0": 32380007,
          "x1": 32380145,
          "y0": 2,
          "y1": 2.5
         },
         {
          "fillcolor": "#4daf4a",
          "opacity": 1,
          "type": "rect",
          "x0": 32394689,
          "x1": 32394933,
          "y0": 2,
          "y1": 2.5
         },
         {
          "fillcolor": "#4daf4a",
          "opacity": 1,
          "type": "rect",
          "x0": 32396898,
          "x1": 32397044,
          "y0": 2,
          "y1": 2.5
         },
         {
          "fillcolor": "#4daf4a",
          "opacity": 1,
          "type": "rect",
          "x0": 32398162,
          "x1": 32400268,
          "y0": 2,
          "y1": 2.5
         },
         {
          "line": {
           "color": "black",
           "width": 2
          },
          "type": "line",
          "x0": 32316072,
          "x1": 32400268,
          "y0": 3.25,
          "y1": 3.25
         },
         {
          "fillcolor": "#984ea3",
          "opacity": 1,
          "type": "rect",
          "x0": 32316072,
          "x1": 32316157,
          "y0": 3,
          "y1": 3.5
         },
         {
          "fillcolor": "#984ea3",
          "opacity": 1,
          "type": "rect",
          "x0": 32316422,
          "x1": 32316527,
          "y0": 3,
          "y1": 3.5
         },
         {
          "fillcolor": "#984ea3",
          "opacity": 1,
          "type": "rect",
          "x0": 32319077,
          "x1": 32319325,
          "y0": 3,
          "y1": 3.5
         },
         {
          "fillcolor": "#984ea3",
          "opacity": 1,
          "type": "rect",
          "x0": 32325076,
          "x1": 32325184,
          "y0": 3,
          "y1": 3.5
         },
         {
          "fillcolor": "#984ea3",
          "opacity": 1,
          "type": "rect",
          "x0": 32326101,
          "x1": 32326150,
          "y0": 3,
          "y1": 3.5
         },
         {
          "fillcolor": "#984ea3",
          "opacity": 1,
          "type": "rect",
          "x0": 32326242,
          "x1": 32326282,
          "y0": 3,
          "y1": 3.5
         },
         {
          "fillcolor": "#984ea3",
          "opacity": 1,
          "type": "rect",
          "x0": 32326499,
          "x1": 32326613,
          "y0": 3,
          "y1": 3.5
         },
         {
          "fillcolor": "#984ea3",
          "opacity": 1,
          "type": "rect",
          "x0": 32329443,
          "x1": 32329492,
          "y0": 3,
          "y1": 3.5
         },
         {
          "fillcolor": "#984ea3",
          "opacity": 1,
          "type": "rect",
          "x0": 32330919,
          "x1": 32331030,
          "y0": 3,
          "y1": 3.5
         },
         {
          "fillcolor": "#984ea3",
          "opacity": 1,
          "type": "rect",
          "x0": 32332272,
          "x1": 32333387,
          "y0": 3,
          "y1": 3.5
         },
         {
          "fillcolor": "#984ea3",
          "opacity": 1,
          "type": "rect",
          "x0": 32336265,
          "x1": 32341196,
          "y0": 3,
          "y1": 3.5
         },
         {
          "fillcolor": "#984ea3",
          "opacity": 1,
          "type": "rect",
          "x0": 32344558,
          "x1": 32344653,
          "y0": 3,
          "y1": 3.5
         },
         {
          "fillcolor": "#984ea3",
          "opacity": 1,
          "type": "rect",
          "x0": 32346827,
          "x1": 32346896,
          "y0": 3,
          "y1": 3.5
         },
         {
          "fillcolor": "#984ea3",
          "opacity": 1,
          "type": "rect",
          "x0": 32354861,
          "x1": 32355288,
          "y0": 3,
          "y1": 3.5
         },
         {
          "fillcolor": "#984ea3",
          "opacity": 1,
          "type": "rect",
          "x0": 32356428,
          "x1": 32356609,
          "y0": 3,
          "y1": 3.5
         },
         {
          "fillcolor": "#984ea3",
          "opacity": 1,
          "type": "rect",
          "x0": 32357742,
          "x1": 32357929,
          "y0": 3,
          "y1": 3.5
         },
         {
          "fillcolor": "#984ea3",
          "opacity": 1,
          "type": "rect",
          "x0": 32362523,
          "x1": 32362693,
          "y0": 3,
          "y1": 3.5
         },
         {
          "fillcolor": "#984ea3",
          "opacity": 1,
          "type": "rect",
          "x0": 32363179,
          "x1": 32363533,
          "y0": 3,
          "y1": 3.5
         },
         {
          "fillcolor": "#984ea3",
          "opacity": 1,
          "type": "rect",
          "x0": 32370402,
          "x1": 32370557,
          "y0": 3,
          "y1": 3.5
         },
         {
          "fillcolor": "#984ea3",
          "opacity": 1,
          "type": "rect",
          "x0": 32370956,
          "x1": 32371100,
          "y0": 3,
          "y1": 3.5
         },
         {
          "fillcolor": "#984ea3",
          "opacity": 1,
          "type": "rect",
          "x0": 32376670,
          "x1": 32376791,
          "y0": 3,
          "y1": 3.5
         },
         {
          "fillcolor": "#984ea3",
          "opacity": 1,
          "type": "rect",
          "x0": 32379317,
          "x1": 32379515,
          "y0": 3,
          "y1": 3.5
         },
         {
          "fillcolor": "#984ea3",
          "opacity": 1,
          "type": "rect",
          "x0": 32379750,
          "x1": 32379913,
          "y0": 3,
          "y1": 3.5
         },
         {
          "fillcolor": "#984ea3",
          "opacity": 1,
          "type": "rect",
          "x0": 32380007,
          "x1": 32380145,
          "y0": 3,
          "y1": 3.5
         },
         {
          "fillcolor": "#984ea3",
          "opacity": 1,
          "type": "rect",
          "x0": 32394689,
          "x1": 32394933,
          "y0": 3,
          "y1": 3.5
         },
         {
          "fillcolor": "#984ea3",
          "opacity": 1,
          "type": "rect",
          "x0": 32396898,
          "x1": 32397044,
          "y0": 3,
          "y1": 3.5
         },
         {
          "fillcolor": "#984ea3",
          "opacity": 1,
          "type": "rect",
          "x0": 32398162,
          "x1": 32400268,
          "y0": 3,
          "y1": 3.5
         },
         {
          "line": {
           "color": "black",
           "width": 2
          },
          "type": "line",
          "x0": 32356526,
          "x1": 32398770,
          "y0": 4.25,
          "y1": 4.25
         },
         {
          "fillcolor": "#ff7f00",
          "opacity": 1,
          "type": "rect",
          "x0": 32356526,
          "x1": 32356609,
          "y0": 4,
          "y1": 4.5
         },
         {
          "fillcolor": "#ff7f00",
          "opacity": 1,
          "type": "rect",
          "x0": 32357742,
          "x1": 32357929,
          "y0": 4,
          "y1": 4.5
         },
         {
          "fillcolor": "#ff7f00",
          "opacity": 1,
          "type": "rect",
          "x0": 32362523,
          "x1": 32362693,
          "y0": 4,
          "y1": 4.5
         },
         {
          "fillcolor": "#ff7f00",
          "opacity": 1,
          "type": "rect",
          "x0": 32363179,
          "x1": 32363533,
          "y0": 4,
          "y1": 4.5
         },
         {
          "fillcolor": "#ff7f00",
          "opacity": 1,
          "type": "rect",
          "x0": 32370402,
          "x1": 32370557,
          "y0": 4,
          "y1": 4.5
         },
         {
          "fillcolor": "#ff7f00",
          "opacity": 1,
          "type": "rect",
          "x0": 32370956,
          "x1": 32371100,
          "y0": 4,
          "y1": 4.5
         },
         {
          "fillcolor": "#ff7f00",
          "opacity": 1,
          "type": "rect",
          "x0": 32376670,
          "x1": 32376791,
          "y0": 4,
          "y1": 4.5
         },
         {
          "fillcolor": "#ff7f00",
          "opacity": 1,
          "type": "rect",
          "x0": 32379317,
          "x1": 32379515,
          "y0": 4,
          "y1": 4.5
         },
         {
          "fillcolor": "#ff7f00",
          "opacity": 1,
          "type": "rect",
          "x0": 32379801,
          "x1": 32379913,
          "y0": 4,
          "y1": 4.5
         },
         {
          "fillcolor": "#ff7f00",
          "opacity": 1,
          "type": "rect",
          "x0": 32380007,
          "x1": 32380145,
          "y0": 4,
          "y1": 4.5
         },
         {
          "fillcolor": "#ff7f00",
          "opacity": 1,
          "type": "rect",
          "x0": 32394689,
          "x1": 32394933,
          "y0": 4,
          "y1": 4.5
         },
         {
          "fillcolor": "#ff7f00",
          "opacity": 1,
          "type": "rect",
          "x0": 32396898,
          "x1": 32397044,
          "y0": 4,
          "y1": 4.5
         },
         {
          "fillcolor": "#ff7f00",
          "opacity": 1,
          "type": "rect",
          "x0": 32398162,
          "x1": 32398770,
          "y0": 4,
          "y1": 4.5
         }
        ],
        "showlegend": false,
        "template": {
         "data": {
          "bar": [
           {
            "error_x": {
             "color": "#2a3f5f"
            },
            "error_y": {
             "color": "#2a3f5f"
            },
            "marker": {
             "line": {
              "color": "white",
              "width": 0.5
             }
            },
            "type": "bar"
           }
          ],
          "barpolar": [
           {
            "marker": {
             "line": {
              "color": "white",
              "width": 0.5
             }
            },
            "type": "barpolar"
           }
          ],
          "carpet": [
           {
            "aaxis": {
             "endlinecolor": "#2a3f5f",
             "gridcolor": "#C8D4E3",
             "linecolor": "#C8D4E3",
             "minorgridcolor": "#C8D4E3",
             "startlinecolor": "#2a3f5f"
            },
            "baxis": {
             "endlinecolor": "#2a3f5f",
             "gridcolor": "#C8D4E3",
             "linecolor": "#C8D4E3",
             "minorgridcolor": "#C8D4E3",
             "startlinecolor": "#2a3f5f"
            },
            "type": "carpet"
           }
          ],
          "choropleth": [
           {
            "colorbar": {
             "outlinewidth": 0,
             "ticks": ""
            },
            "type": "choropleth"
           }
          ],
          "contour": [
           {
            "colorbar": {
             "outlinewidth": 0,
             "ticks": ""
            },
            "colorscale": [
             [
              0,
              "#0d0887"
             ],
             [
              0.1111111111111111,
              "#46039f"
             ],
             [
              0.2222222222222222,
              "#7201a8"
             ],
             [
              0.3333333333333333,
              "#9c179e"
             ],
             [
              0.4444444444444444,
              "#bd3786"
             ],
             [
              0.5555555555555556,
              "#d8576b"
             ],
             [
              0.6666666666666666,
              "#ed7953"
             ],
             [
              0.7777777777777778,
              "#fb9f3a"
             ],
             [
              0.8888888888888888,
              "#fdca26"
             ],
             [
              1,
              "#f0f921"
             ]
            ],
            "type": "contour"
           }
          ],
          "contourcarpet": [
           {
            "colorbar": {
             "outlinewidth": 0,
             "ticks": ""
            },
            "type": "contourcarpet"
           }
          ],
          "heatmap": [
           {
            "colorbar": {
             "outlinewidth": 0,
             "ticks": ""
            },
            "colorscale": [
             [
              0,
              "#0d0887"
             ],
             [
              0.1111111111111111,
              "#46039f"
             ],
             [
              0.2222222222222222,
              "#7201a8"
             ],
             [
              0.3333333333333333,
              "#9c179e"
             ],
             [
              0.4444444444444444,
              "#bd3786"
             ],
             [
              0.5555555555555556,
              "#d8576b"
             ],
             [
              0.6666666666666666,
              "#ed7953"
             ],
             [
              0.7777777777777778,
              "#fb9f3a"
             ],
             [
              0.8888888888888888,
              "#fdca26"
             ],
             [
              1,
              "#f0f921"
             ]
            ],
            "type": "heatmap"
           }
          ],
          "heatmapgl": [
           {
            "colorbar": {
             "outlinewidth": 0,
             "ticks": ""
            },
            "colorscale": [
             [
              0,
              "#0d0887"
             ],
             [
              0.1111111111111111,
              "#46039f"
             ],
             [
              0.2222222222222222,
              "#7201a8"
             ],
             [
              0.3333333333333333,
              "#9c179e"
             ],
             [
              0.4444444444444444,
              "#bd3786"
             ],
             [
              0.5555555555555556,
              "#d8576b"
             ],
             [
              0.6666666666666666,
              "#ed7953"
             ],
             [
              0.7777777777777778,
              "#fb9f3a"
             ],
             [
              0.8888888888888888,
              "#fdca26"
             ],
             [
              1,
              "#f0f921"
             ]
            ],
            "type": "heatmapgl"
           }
          ],
          "histogram": [
           {
            "marker": {
             "colorbar": {
              "outlinewidth": 0,
              "ticks": ""
             }
            },
            "type": "histogram"
           }
          ],
          "histogram2d": [
           {
            "colorbar": {
             "outlinewidth": 0,
             "ticks": ""
            },
            "colorscale": [
             [
              0,
              "#0d0887"
             ],
             [
              0.1111111111111111,
              "#46039f"
             ],
             [
              0.2222222222222222,
              "#7201a8"
             ],
             [
              0.3333333333333333,
              "#9c179e"
             ],
             [
              0.4444444444444444,
              "#bd3786"
             ],
             [
              0.5555555555555556,
              "#d8576b"
             ],
             [
              0.6666666666666666,
              "#ed7953"
             ],
             [
              0.7777777777777778,
              "#fb9f3a"
             ],
             [
              0.8888888888888888,
              "#fdca26"
             ],
             [
              1,
              "#f0f921"
             ]
            ],
            "type": "histogram2d"
           }
          ],
          "histogram2dcontour": [
           {
            "colorbar": {
             "outlinewidth": 0,
             "ticks": ""
            },
            "colorscale": [
             [
              0,
              "#0d0887"
             ],
             [
              0.1111111111111111,
              "#46039f"
             ],
             [
              0.2222222222222222,
              "#7201a8"
             ],
             [
              0.3333333333333333,
              "#9c179e"
             ],
             [
              0.4444444444444444,
              "#bd3786"
             ],
             [
              0.5555555555555556,
              "#d8576b"
             ],
             [
              0.6666666666666666,
              "#ed7953"
             ],
             [
              0.7777777777777778,
              "#fb9f3a"
             ],
             [
              0.8888888888888888,
              "#fdca26"
             ],
             [
              1,
              "#f0f921"
             ]
            ],
            "type": "histogram2dcontour"
           }
          ],
          "mesh3d": [
           {
            "colorbar": {
             "outlinewidth": 0,
             "ticks": ""
            },
            "type": "mesh3d"
           }
          ],
          "parcoords": [
           {
            "line": {
             "colorbar": {
              "outlinewidth": 0,
              "ticks": ""
             }
            },
            "type": "parcoords"
           }
          ],
          "pie": [
           {
            "automargin": true,
            "type": "pie"
           }
          ],
          "scatter": [
           {
            "marker": {
             "colorbar": {
              "outlinewidth": 0,
              "ticks": ""
             }
            },
            "type": "scatter"
           }
          ],
          "scatter3d": [
           {
            "line": {
             "colorbar": {
              "outlinewidth": 0,
              "ticks": ""
             }
            },
            "marker": {
             "colorbar": {
              "outlinewidth": 0,
              "ticks": ""
             }
            },
            "type": "scatter3d"
           }
          ],
          "scattercarpet": [
           {
            "marker": {
             "colorbar": {
              "outlinewidth": 0,
              "ticks": ""
             }
            },
            "type": "scattercarpet"
           }
          ],
          "scattergeo": [
           {
            "marker": {
             "colorbar": {
              "outlinewidth": 0,
              "ticks": ""
             }
            },
            "type": "scattergeo"
           }
          ],
          "scattergl": [
           {
            "marker": {
             "colorbar": {
              "outlinewidth": 0,
              "ticks": ""
             }
            },
            "type": "scattergl"
           }
          ],
          "scattermapbox": [
           {
            "marker": {
             "colorbar": {
              "outlinewidth": 0,
              "ticks": ""
             }
            },
            "type": "scattermapbox"
           }
          ],
          "scatterpolar": [
           {
            "marker": {
             "colorbar": {
              "outlinewidth": 0,
              "ticks": ""
             }
            },
            "type": "scatterpolar"
           }
          ],
          "scatterpolargl": [
           {
            "marker": {
             "colorbar": {
              "outlinewidth": 0,
              "ticks": ""
             }
            },
            "type": "scatterpolargl"
           }
          ],
          "scatterternary": [
           {
            "marker": {
             "colorbar": {
              "outlinewidth": 0,
              "ticks": ""
             }
            },
            "type": "scatterternary"
           }
          ],
          "surface": [
           {
            "colorbar": {
             "outlinewidth": 0,
             "ticks": ""
            },
            "colorscale": [
             [
              0,
              "#0d0887"
             ],
             [
              0.1111111111111111,
              "#46039f"
             ],
             [
              0.2222222222222222,
              "#7201a8"
             ],
             [
              0.3333333333333333,
              "#9c179e"
             ],
             [
              0.4444444444444444,
              "#bd3786"
             ],
             [
              0.5555555555555556,
              "#d8576b"
             ],
             [
              0.6666666666666666,
              "#ed7953"
             ],
             [
              0.7777777777777778,
              "#fb9f3a"
             ],
             [
              0.8888888888888888,
              "#fdca26"
             ],
             [
              1,
              "#f0f921"
             ]
            ],
            "type": "surface"
           }
          ],
          "table": [
           {
            "cells": {
             "fill": {
              "color": "#EBF0F8"
             },
             "line": {
              "color": "white"
             }
            },
            "header": {
             "fill": {
              "color": "#C8D4E3"
             },
             "line": {
              "color": "white"
             }
            },
            "type": "table"
           }
          ]
         },
         "layout": {
          "annotationdefaults": {
           "arrowcolor": "#2a3f5f",
           "arrowhead": 0,
           "arrowwidth": 1
          },
          "autotypenumbers": "strict",
          "coloraxis": {
           "colorbar": {
            "outlinewidth": 0,
            "ticks": ""
           }
          },
          "colorscale": {
           "diverging": [
            [
             0,
             "#8e0152"
            ],
            [
             0.1,
             "#c51b7d"
            ],
            [
             0.2,
             "#de77ae"
            ],
            [
             0.3,
             "#f1b6da"
            ],
            [
             0.4,
             "#fde0ef"
            ],
            [
             0.5,
             "#f7f7f7"
            ],
            [
             0.6,
             "#e6f5d0"
            ],
            [
             0.7,
             "#b8e186"
            ],
            [
             0.8,
             "#7fbc41"
            ],
            [
             0.9,
             "#4d9221"
            ],
            [
             1,
             "#276419"
            ]
           ],
           "sequential": [
            [
             0,
             "#0d0887"
            ],
            [
             0.1111111111111111,
             "#46039f"
            ],
            [
             0.2222222222222222,
             "#7201a8"
            ],
            [
             0.3333333333333333,
             "#9c179e"
            ],
            [
             0.4444444444444444,
             "#bd3786"
            ],
            [
             0.5555555555555556,
             "#d8576b"
            ],
            [
             0.6666666666666666,
             "#ed7953"
            ],
            [
             0.7777777777777778,
             "#fb9f3a"
            ],
            [
             0.8888888888888888,
             "#fdca26"
            ],
            [
             1,
             "#f0f921"
            ]
           ],
           "sequentialminus": [
            [
             0,
             "#0d0887"
            ],
            [
             0.1111111111111111,
             "#46039f"
            ],
            [
             0.2222222222222222,
             "#7201a8"
            ],
            [
             0.3333333333333333,
             "#9c179e"
            ],
            [
             0.4444444444444444,
             "#bd3786"
            ],
            [
             0.5555555555555556,
             "#d8576b"
            ],
            [
             0.6666666666666666,
             "#ed7953"
            ],
            [
             0.7777777777777778,
             "#fb9f3a"
            ],
            [
             0.8888888888888888,
             "#fdca26"
            ],
            [
             1,
             "#f0f921"
            ]
           ]
          },
          "colorway": [
           "#636efa",
           "#EF553B",
           "#00cc96",
           "#ab63fa",
           "#FFA15A",
           "#19d3f3",
           "#FF6692",
           "#B6E880",
           "#FF97FF",
           "#FECB52"
          ],
          "font": {
           "color": "#2a3f5f"
          },
          "geo": {
           "bgcolor": "white",
           "lakecolor": "white",
           "landcolor": "white",
           "showlakes": true,
           "showland": true,
           "subunitcolor": "#C8D4E3"
          },
          "hoverlabel": {
           "align": "left"
          },
          "hovermode": "closest",
          "mapbox": {
           "style": "light"
          },
          "paper_bgcolor": "white",
          "plot_bgcolor": "white",
          "polar": {
           "angularaxis": {
            "gridcolor": "#EBF0F8",
            "linecolor": "#EBF0F8",
            "ticks": ""
           },
           "bgcolor": "white",
           "radialaxis": {
            "gridcolor": "#EBF0F8",
            "linecolor": "#EBF0F8",
            "ticks": ""
           }
          },
          "scene": {
           "xaxis": {
            "backgroundcolor": "white",
            "gridcolor": "#DFE8F3",
            "gridwidth": 2,
            "linecolor": "#EBF0F8",
            "showbackground": true,
            "ticks": "",
            "zerolinecolor": "#EBF0F8"
           },
           "yaxis": {
            "backgroundcolor": "white",
            "gridcolor": "#DFE8F3",
            "gridwidth": 2,
            "linecolor": "#EBF0F8",
            "showbackground": true,
            "ticks": "",
            "zerolinecolor": "#EBF0F8"
           },
           "zaxis": {
            "backgroundcolor": "white",
            "gridcolor": "#DFE8F3",
            "gridwidth": 2,
            "linecolor": "#EBF0F8",
            "showbackground": true,
            "ticks": "",
            "zerolinecolor": "#EBF0F8"
           }
          },
          "shapedefaults": {
           "line": {
            "color": "#2a3f5f"
           }
          },
          "ternary": {
           "aaxis": {
            "gridcolor": "#DFE8F3",
            "linecolor": "#A2B1C6",
            "ticks": ""
           },
           "baxis": {
            "gridcolor": "#DFE8F3",
            "linecolor": "#A2B1C6",
            "ticks": ""
           },
           "bgcolor": "white",
           "caxis": {
            "gridcolor": "#DFE8F3",
            "linecolor": "#A2B1C6",
            "ticks": ""
           }
          },
          "title": {
           "x": 0.05
          },
          "xaxis": {
           "automargin": true,
           "gridcolor": "#EBF0F8",
           "linecolor": "#EBF0F8",
           "ticks": "",
           "title": {
            "standoff": 15
           },
           "zerolinecolor": "#EBF0F8",
           "zerolinewidth": 2
          },
          "yaxis": {
           "automargin": true,
           "gridcolor": "#EBF0F8",
           "linecolor": "#EBF0F8",
           "ticks": "",
           "title": {
            "standoff": 15
           },
           "zerolinecolor": "#EBF0F8",
           "zerolinewidth": 2
          }
         }
        },
        "title": {
         "text": "Exon Plot"
        },
        "width": 800,
        "xaxis": {
         "range": [
          32315085,
          32400275.5
         ],
         "title": {
          "text": "Position"
         }
        },
        "yaxis": {
         "range": [
          -0.6,
          4.6
         ],
         "tickmode": "array",
         "ticktext": [
          "ENST00000544455",
          "ENST00000530893",
          "ENST00000380152",
          "ENST00000680887",
          "ENST00000700202"
         ],
         "tickvals": [
          0.25,
          1.25,
          2.25,
          3.25,
          4.25
         ],
         "title": {
          "text": "Transcript"
         }
        }
       }
      },
      "text/html": [
       "<div>                            <div id=\"564e97df-1868-4b57-9324-5a6e84f5134c\" class=\"plotly-graph-div\" style=\"height:500px; width:800px;\"></div>            <script type=\"text/javascript\">                require([\"plotly\"], function(Plotly) {                    window.PLOTLYENV=window.PLOTLYENV || {};                                    if (document.getElementById(\"564e97df-1868-4b57-9324-5a6e84f5134c\")) {                    Plotly.newPlot(                        \"564e97df-1868-4b57-9324-5a6e84f5134c\",                        [],                        {\"height\": 500, \"shapes\": [{\"line\": {\"color\": \"black\", \"width\": 2}, \"type\": \"line\", \"x0\": 32315086, \"x1\": 32400268, \"y0\": 0.25, \"y1\": 0.25}, {\"fillcolor\": \"#e41a1c\", \"opacity\": 1, \"type\": \"rect\", \"x0\": 32315086, \"x1\": 32315145, \"y0\": 0, \"y1\": 0.5}, {\"fillcolor\": \"#e41a1c\", \"opacity\": 1, \"type\": \"rect\", \"x0\": 32316422, \"x1\": 32316527, \"y0\": 0, \"y1\": 0.5}, {\"fillcolor\": \"#e41a1c\", \"opacity\": 1, \"type\": \"rect\", \"x0\": 32319077, \"x1\": 32319325, \"y0\": 0, \"y1\": 0.5}, {\"fillcolor\": \"#e41a1c\", \"opacity\": 1, \"type\": \"rect\", \"x0\": 32325076, \"x1\": 32325184, \"y0\": 0, \"y1\": 0.5}, {\"fillcolor\": \"#e41a1c\", \"opacity\": 1, \"type\": \"rect\", \"x0\": 32326101, \"x1\": 32326150, \"y0\": 0, \"y1\": 0.5}, {\"fillcolor\": \"#e41a1c\", \"opacity\": 1, \"type\": \"rect\", \"x0\": 32326242, \"x1\": 32326282, \"y0\": 0, \"y1\": 0.5}, {\"fillcolor\": \"#e41a1c\", \"opacity\": 1, \"type\": \"rect\", \"x0\": 32326499, \"x1\": 32326613, \"y0\": 0, \"y1\": 0.5}, {\"fillcolor\": \"#e41a1c\", \"opacity\": 1, \"type\": \"rect\", \"x0\": 32329443, \"x1\": 32329492, \"y0\": 0, \"y1\": 0.5}, {\"fillcolor\": \"#e41a1c\", \"opacity\": 1, \"type\": \"rect\", \"x0\": 32330919, \"x1\": 32331030, \"y0\": 0, \"y1\": 0.5}, {\"fillcolor\": \"#e41a1c\", \"opacity\": 1, \"type\": \"rect\", \"x0\": 32332272, \"x1\": 32333387, \"y0\": 0, \"y1\": 0.5}, {\"fillcolor\": \"#e41a1c\", \"opacity\": 1, \"type\": \"rect\", \"x0\": 32336265, \"x1\": 32341196, \"y0\": 0, \"y1\": 0.5}, {\"fillcolor\": \"#e41a1c\", \"opacity\": 1, \"type\": \"rect\", \"x0\": 32344558, \"x1\": 32344653, \"y0\": 0, \"y1\": 0.5}, {\"fillcolor\": \"#e41a1c\", \"opacity\": 1, \"type\": \"rect\", \"x0\": 32346827, \"x1\": 32346896, \"y0\": 0, \"y1\": 0.5}, {\"fillcolor\": \"#e41a1c\", \"opacity\": 1, \"type\": \"rect\", \"x0\": 32354861, \"x1\": 32355288, \"y0\": 0, \"y1\": 0.5}, {\"fillcolor\": \"#e41a1c\", \"opacity\": 1, \"type\": \"rect\", \"x0\": 32356428, \"x1\": 32356609, \"y0\": 0, \"y1\": 0.5}, {\"fillcolor\": \"#e41a1c\", \"opacity\": 1, \"type\": \"rect\", \"x0\": 32357742, \"x1\": 32357929, \"y0\": 0, \"y1\": 0.5}, {\"fillcolor\": \"#e41a1c\", \"opacity\": 1, \"type\": \"rect\", \"x0\": 32362523, \"x1\": 32362693, \"y0\": 0, \"y1\": 0.5}, {\"fillcolor\": \"#e41a1c\", \"opacity\": 1, \"type\": \"rect\", \"x0\": 32363179, \"x1\": 32363533, \"y0\": 0, \"y1\": 0.5}, {\"fillcolor\": \"#e41a1c\", \"opacity\": 1, \"type\": \"rect\", \"x0\": 32370402, \"x1\": 32370557, \"y0\": 0, \"y1\": 0.5}, {\"fillcolor\": \"#e41a1c\", \"opacity\": 1, \"type\": \"rect\", \"x0\": 32370956, \"x1\": 32371100, \"y0\": 0, \"y1\": 0.5}, {\"fillcolor\": \"#e41a1c\", \"opacity\": 1, \"type\": \"rect\", \"x0\": 32376670, \"x1\": 32376791, \"y0\": 0, \"y1\": 0.5}, {\"fillcolor\": \"#e41a1c\", \"opacity\": 1, \"type\": \"rect\", \"x0\": 32379317, \"x1\": 32379515, \"y0\": 0, \"y1\": 0.5}, {\"fillcolor\": \"#e41a1c\", \"opacity\": 1, \"type\": \"rect\", \"x0\": 32379750, \"x1\": 32379913, \"y0\": 0, \"y1\": 0.5}, {\"fillcolor\": \"#e41a1c\", \"opacity\": 1, \"type\": \"rect\", \"x0\": 32380007, \"x1\": 32380145, \"y0\": 0, \"y1\": 0.5}, {\"fillcolor\": \"#e41a1c\", \"opacity\": 1, \"type\": \"rect\", \"x0\": 32394689, \"x1\": 32394933, \"y0\": 0, \"y1\": 0.5}, {\"fillcolor\": \"#e41a1c\", \"opacity\": 1, \"type\": \"rect\", \"x0\": 32396898, \"x1\": 32397044, \"y0\": 0, \"y1\": 0.5}, {\"fillcolor\": \"#e41a1c\", \"opacity\": 1, \"type\": \"rect\", \"x0\": 32398162, \"x1\": 32400268, \"y0\": 0, \"y1\": 0.5}, {\"line\": {\"color\": \"black\", \"width\": 2}, \"type\": \"line\", \"x0\": 32315505, \"x1\": 32333291, \"y0\": 1.25, \"y1\": 1.25}, {\"fillcolor\": \"#377eb8\", \"opacity\": 1, \"type\": \"rect\", \"x0\": 32315505, \"x1\": 32315667, \"y0\": 1, \"y1\": 1.5}, {\"fillcolor\": \"#377eb8\", \"opacity\": 1, \"type\": \"rect\", \"x0\": 32316422, \"x1\": 32316523, \"y0\": 1, \"y1\": 1.5}, {\"fillcolor\": \"#377eb8\", \"opacity\": 1, \"type\": \"rect\", \"x0\": 32319077, \"x1\": 32319325, \"y0\": 1, \"y1\": 1.5}, {\"fillcolor\": \"#377eb8\", \"opacity\": 1, \"type\": \"rect\", \"x0\": 32325076, \"x1\": 32325184, \"y0\": 1, \"y1\": 1.5}, {\"fillcolor\": \"#377eb8\", \"opacity\": 1, \"type\": \"rect\", \"x0\": 32326101, \"x1\": 32326150, \"y0\": 1, \"y1\": 1.5}, {\"fillcolor\": \"#377eb8\", \"opacity\": 1, \"type\": \"rect\", \"x0\": 32326242, \"x1\": 32326282, \"y0\": 1, \"y1\": 1.5}, {\"fillcolor\": \"#377eb8\", \"opacity\": 1, \"type\": \"rect\", \"x0\": 32326499, \"x1\": 32326613, \"y0\": 1, \"y1\": 1.5}, {\"fillcolor\": \"#377eb8\", \"opacity\": 1, \"type\": \"rect\", \"x0\": 32329443, \"x1\": 32329492, \"y0\": 1, \"y1\": 1.5}, {\"fillcolor\": \"#377eb8\", \"opacity\": 1, \"type\": \"rect\", \"x0\": 32330919, \"x1\": 32331030, \"y0\": 1, \"y1\": 1.5}, {\"fillcolor\": \"#377eb8\", \"opacity\": 1, \"type\": \"rect\", \"x0\": 32332272, \"x1\": 32333291, \"y0\": 1, \"y1\": 1.5}, {\"line\": {\"color\": \"black\", \"width\": 2}, \"type\": \"line\", \"x0\": 32315508, \"x1\": 32400268, \"y0\": 2.25, \"y1\": 2.25}, {\"fillcolor\": \"#4daf4a\", \"opacity\": 1, \"type\": \"rect\", \"x0\": 32315508, \"x1\": 32315667, \"y0\": 2, \"y1\": 2.5}, {\"fillcolor\": \"#4daf4a\", \"opacity\": 1, \"type\": \"rect\", \"x0\": 32316422, \"x1\": 32316527, \"y0\": 2, \"y1\": 2.5}, {\"fillcolor\": \"#4daf4a\", \"opacity\": 1, \"type\": \"rect\", \"x0\": 32319077, \"x1\": 32319325, \"y0\": 2, \"y1\": 2.5}, {\"fillcolor\": \"#4daf4a\", \"opacity\": 1, \"type\": \"rect\", \"x0\": 32325076, \"x1\": 32325184, \"y0\": 2, \"y1\": 2.5}, {\"fillcolor\": \"#4daf4a\", \"opacity\": 1, \"type\": \"rect\", \"x0\": 32326101, \"x1\": 32326150, \"y0\": 2, \"y1\": 2.5}, {\"fillcolor\": \"#4daf4a\", \"opacity\": 1, \"type\": \"rect\", \"x0\": 32326242, \"x1\": 32326282, \"y0\": 2, \"y1\": 2.5}, {\"fillcolor\": \"#4daf4a\", \"opacity\": 1, \"type\": \"rect\", \"x0\": 32326499, \"x1\": 32326613, \"y0\": 2, \"y1\": 2.5}, {\"fillcolor\": \"#4daf4a\", \"opacity\": 1, \"type\": \"rect\", \"x0\": 32329443, \"x1\": 32329492, \"y0\": 2, \"y1\": 2.5}, {\"fillcolor\": \"#4daf4a\", \"opacity\": 1, \"type\": \"rect\", \"x0\": 32330919, \"x1\": 32331030, \"y0\": 2, \"y1\": 2.5}, {\"fillcolor\": \"#4daf4a\", \"opacity\": 1, \"type\": \"rect\", \"x0\": 32332272, \"x1\": 32333387, \"y0\": 2, \"y1\": 2.5}, {\"fillcolor\": \"#4daf4a\", \"opacity\": 1, \"type\": \"rect\", \"x0\": 32336265, \"x1\": 32341196, \"y0\": 2, \"y1\": 2.5}, {\"fillcolor\": \"#4daf4a\", \"opacity\": 1, \"type\": \"rect\", \"x0\": 32344558, \"x1\": 32344653, \"y0\": 2, \"y1\": 2.5}, {\"fillcolor\": \"#4daf4a\", \"opacity\": 1, \"type\": \"rect\", \"x0\": 32346827, \"x1\": 32346896, \"y0\": 2, \"y1\": 2.5}, {\"fillcolor\": \"#4daf4a\", \"opacity\": 1, \"type\": \"rect\", \"x0\": 32354861, \"x1\": 32355288, \"y0\": 2, \"y1\": 2.5}, {\"fillcolor\": \"#4daf4a\", \"opacity\": 1, \"type\": \"rect\", \"x0\": 32356428, \"x1\": 32356609, \"y0\": 2, \"y1\": 2.5}, {\"fillcolor\": \"#4daf4a\", \"opacity\": 1, \"type\": \"rect\", \"x0\": 32357742, \"x1\": 32357929, \"y0\": 2, \"y1\": 2.5}, {\"fillcolor\": \"#4daf4a\", \"opacity\": 1, \"type\": \"rect\", \"x0\": 32362523, \"x1\": 32362693, \"y0\": 2, \"y1\": 2.5}, {\"fillcolor\": \"#4daf4a\", \"opacity\": 1, \"type\": \"rect\", \"x0\": 32363179, \"x1\": 32363533, \"y0\": 2, \"y1\": 2.5}, {\"fillcolor\": \"#4daf4a\", \"opacity\": 1, \"type\": \"rect\", \"x0\": 32370402, \"x1\": 32370557, \"y0\": 2, \"y1\": 2.5}, {\"fillcolor\": \"#4daf4a\", \"opacity\": 1, \"type\": \"rect\", \"x0\": 32370956, \"x1\": 32371100, \"y0\": 2, \"y1\": 2.5}, {\"fillcolor\": \"#4daf4a\", \"opacity\": 1, \"type\": \"rect\", \"x0\": 32376670, \"x1\": 32376791, \"y0\": 2, \"y1\": 2.5}, {\"fillcolor\": \"#4daf4a\", \"opacity\": 1, \"type\": \"rect\", \"x0\": 32379317, \"x1\": 32379515, \"y0\": 2, \"y1\": 2.5}, {\"fillcolor\": \"#4daf4a\", \"opacity\": 1, \"type\": \"rect\", \"x0\": 32379750, \"x1\": 32379913, \"y0\": 2, \"y1\": 2.5}, {\"fillcolor\": \"#4daf4a\", \"opacity\": 1, \"type\": \"rect\", \"x0\": 32380007, \"x1\": 32380145, \"y0\": 2, \"y1\": 2.5}, {\"fillcolor\": \"#4daf4a\", \"opacity\": 1, \"type\": \"rect\", \"x0\": 32394689, \"x1\": 32394933, \"y0\": 2, \"y1\": 2.5}, {\"fillcolor\": \"#4daf4a\", \"opacity\": 1, \"type\": \"rect\", \"x0\": 32396898, \"x1\": 32397044, \"y0\": 2, \"y1\": 2.5}, {\"fillcolor\": \"#4daf4a\", \"opacity\": 1, \"type\": \"rect\", \"x0\": 32398162, \"x1\": 32400268, \"y0\": 2, \"y1\": 2.5}, {\"line\": {\"color\": \"black\", \"width\": 2}, \"type\": \"line\", \"x0\": 32316072, \"x1\": 32400268, \"y0\": 3.25, \"y1\": 3.25}, {\"fillcolor\": \"#984ea3\", \"opacity\": 1, \"type\": \"rect\", \"x0\": 32316072, \"x1\": 32316157, \"y0\": 3, \"y1\": 3.5}, {\"fillcolor\": \"#984ea3\", \"opacity\": 1, \"type\": \"rect\", \"x0\": 32316422, \"x1\": 32316527, \"y0\": 3, \"y1\": 3.5}, {\"fillcolor\": \"#984ea3\", \"opacity\": 1, \"type\": \"rect\", \"x0\": 32319077, \"x1\": 32319325, \"y0\": 3, \"y1\": 3.5}, {\"fillcolor\": \"#984ea3\", \"opacity\": 1, \"type\": \"rect\", \"x0\": 32325076, \"x1\": 32325184, \"y0\": 3, \"y1\": 3.5}, {\"fillcolor\": \"#984ea3\", \"opacity\": 1, \"type\": \"rect\", \"x0\": 32326101, \"x1\": 32326150, \"y0\": 3, \"y1\": 3.5}, {\"fillcolor\": \"#984ea3\", \"opacity\": 1, \"type\": \"rect\", \"x0\": 32326242, \"x1\": 32326282, \"y0\": 3, \"y1\": 3.5}, {\"fillcolor\": \"#984ea3\", \"opacity\": 1, \"type\": \"rect\", \"x0\": 32326499, \"x1\": 32326613, \"y0\": 3, \"y1\": 3.5}, {\"fillcolor\": \"#984ea3\", \"opacity\": 1, \"type\": \"rect\", \"x0\": 32329443, \"x1\": 32329492, \"y0\": 3, \"y1\": 3.5}, {\"fillcolor\": \"#984ea3\", \"opacity\": 1, \"type\": \"rect\", \"x0\": 32330919, \"x1\": 32331030, \"y0\": 3, \"y1\": 3.5}, {\"fillcolor\": \"#984ea3\", \"opacity\": 1, \"type\": \"rect\", \"x0\": 32332272, \"x1\": 32333387, \"y0\": 3, \"y1\": 3.5}, {\"fillcolor\": \"#984ea3\", \"opacity\": 1, \"type\": \"rect\", \"x0\": 32336265, \"x1\": 32341196, \"y0\": 3, \"y1\": 3.5}, {\"fillcolor\": \"#984ea3\", \"opacity\": 1, \"type\": \"rect\", \"x0\": 32344558, \"x1\": 32344653, \"y0\": 3, \"y1\": 3.5}, {\"fillcolor\": \"#984ea3\", \"opacity\": 1, \"type\": \"rect\", \"x0\": 32346827, \"x1\": 32346896, \"y0\": 3, \"y1\": 3.5}, {\"fillcolor\": \"#984ea3\", \"opacity\": 1, \"type\": \"rect\", \"x0\": 32354861, \"x1\": 32355288, \"y0\": 3, \"y1\": 3.5}, {\"fillcolor\": \"#984ea3\", \"opacity\": 1, \"type\": \"rect\", \"x0\": 32356428, \"x1\": 32356609, \"y0\": 3, \"y1\": 3.5}, {\"fillcolor\": \"#984ea3\", \"opacity\": 1, \"type\": \"rect\", \"x0\": 32357742, \"x1\": 32357929, \"y0\": 3, \"y1\": 3.5}, {\"fillcolor\": \"#984ea3\", \"opacity\": 1, \"type\": \"rect\", \"x0\": 32362523, \"x1\": 32362693, \"y0\": 3, \"y1\": 3.5}, {\"fillcolor\": \"#984ea3\", \"opacity\": 1, \"type\": \"rect\", \"x0\": 32363179, \"x1\": 32363533, \"y0\": 3, \"y1\": 3.5}, {\"fillcolor\": \"#984ea3\", \"opacity\": 1, \"type\": \"rect\", \"x0\": 32370402, \"x1\": 32370557, \"y0\": 3, \"y1\": 3.5}, {\"fillcolor\": \"#984ea3\", \"opacity\": 1, \"type\": \"rect\", \"x0\": 32370956, \"x1\": 32371100, \"y0\": 3, \"y1\": 3.5}, {\"fillcolor\": \"#984ea3\", \"opacity\": 1, \"type\": \"rect\", \"x0\": 32376670, \"x1\": 32376791, \"y0\": 3, \"y1\": 3.5}, {\"fillcolor\": \"#984ea3\", \"opacity\": 1, \"type\": \"rect\", \"x0\": 32379317, \"x1\": 32379515, \"y0\": 3, \"y1\": 3.5}, {\"fillcolor\": \"#984ea3\", \"opacity\": 1, \"type\": \"rect\", \"x0\": 32379750, \"x1\": 32379913, \"y0\": 3, \"y1\": 3.5}, {\"fillcolor\": \"#984ea3\", \"opacity\": 1, \"type\": \"rect\", \"x0\": 32380007, \"x1\": 32380145, \"y0\": 3, \"y1\": 3.5}, {\"fillcolor\": \"#984ea3\", \"opacity\": 1, \"type\": \"rect\", \"x0\": 32394689, \"x1\": 32394933, \"y0\": 3, \"y1\": 3.5}, {\"fillcolor\": \"#984ea3\", \"opacity\": 1, \"type\": \"rect\", \"x0\": 32396898, \"x1\": 32397044, \"y0\": 3, \"y1\": 3.5}, {\"fillcolor\": \"#984ea3\", \"opacity\": 1, \"type\": \"rect\", \"x0\": 32398162, \"x1\": 32400268, \"y0\": 3, \"y1\": 3.5}, {\"line\": {\"color\": \"black\", \"width\": 2}, \"type\": \"line\", \"x0\": 32356526, \"x1\": 32398770, \"y0\": 4.25, \"y1\": 4.25}, {\"fillcolor\": \"#ff7f00\", \"opacity\": 1, \"type\": \"rect\", \"x0\": 32356526, \"x1\": 32356609, \"y0\": 4, \"y1\": 4.5}, {\"fillcolor\": \"#ff7f00\", \"opacity\": 1, \"type\": \"rect\", \"x0\": 32357742, \"x1\": 32357929, \"y0\": 4, \"y1\": 4.5}, {\"fillcolor\": \"#ff7f00\", \"opacity\": 1, \"type\": \"rect\", \"x0\": 32362523, \"x1\": 32362693, \"y0\": 4, \"y1\": 4.5}, {\"fillcolor\": \"#ff7f00\", \"opacity\": 1, \"type\": \"rect\", \"x0\": 32363179, \"x1\": 32363533, \"y0\": 4, \"y1\": 4.5}, {\"fillcolor\": \"#ff7f00\", \"opacity\": 1, \"type\": \"rect\", \"x0\": 32370402, \"x1\": 32370557, \"y0\": 4, \"y1\": 4.5}, {\"fillcolor\": \"#ff7f00\", \"opacity\": 1, \"type\": \"rect\", \"x0\": 32370956, \"x1\": 32371100, \"y0\": 4, \"y1\": 4.5}, {\"fillcolor\": \"#ff7f00\", \"opacity\": 1, \"type\": \"rect\", \"x0\": 32376670, \"x1\": 32376791, \"y0\": 4, \"y1\": 4.5}, {\"fillcolor\": \"#ff7f00\", \"opacity\": 1, \"type\": \"rect\", \"x0\": 32379317, \"x1\": 32379515, \"y0\": 4, \"y1\": 4.5}, {\"fillcolor\": \"#ff7f00\", \"opacity\": 1, \"type\": \"rect\", \"x0\": 32379801, \"x1\": 32379913, \"y0\": 4, \"y1\": 4.5}, {\"fillcolor\": \"#ff7f00\", \"opacity\": 1, \"type\": \"rect\", \"x0\": 32380007, \"x1\": 32380145, \"y0\": 4, \"y1\": 4.5}, {\"fillcolor\": \"#ff7f00\", \"opacity\": 1, \"type\": \"rect\", \"x0\": 32394689, \"x1\": 32394933, \"y0\": 4, \"y1\": 4.5}, {\"fillcolor\": \"#ff7f00\", \"opacity\": 1, \"type\": \"rect\", \"x0\": 32396898, \"x1\": 32397044, \"y0\": 4, \"y1\": 4.5}, {\"fillcolor\": \"#ff7f00\", \"opacity\": 1, \"type\": \"rect\", \"x0\": 32398162, \"x1\": 32398770, \"y0\": 4, \"y1\": 4.5}], \"showlegend\": false, \"template\": {\"data\": {\"bar\": [{\"error_x\": {\"color\": \"#2a3f5f\"}, \"error_y\": {\"color\": \"#2a3f5f\"}, \"marker\": {\"line\": {\"color\": \"white\", \"width\": 0.5}}, \"type\": \"bar\"}], \"barpolar\": [{\"marker\": {\"line\": {\"color\": \"white\", \"width\": 0.5}}, \"type\": \"barpolar\"}], \"carpet\": [{\"aaxis\": {\"endlinecolor\": \"#2a3f5f\", \"gridcolor\": \"#C8D4E3\", \"linecolor\": \"#C8D4E3\", \"minorgridcolor\": \"#C8D4E3\", \"startlinecolor\": \"#2a3f5f\"}, \"baxis\": {\"endlinecolor\": \"#2a3f5f\", \"gridcolor\": \"#C8D4E3\", \"linecolor\": \"#C8D4E3\", \"minorgridcolor\": \"#C8D4E3\", \"startlinecolor\": \"#2a3f5f\"}, \"type\": \"carpet\"}], \"choropleth\": [{\"colorbar\": {\"outlinewidth\": 0, \"ticks\": \"\"}, \"type\": \"choropleth\"}], \"contour\": [{\"colorbar\": {\"outlinewidth\": 0, \"ticks\": \"\"}, \"colorscale\": [[0.0, \"#0d0887\"], [0.1111111111111111, \"#46039f\"], [0.2222222222222222, \"#7201a8\"], [0.3333333333333333, \"#9c179e\"], [0.4444444444444444, \"#bd3786\"], [0.5555555555555556, \"#d8576b\"], [0.6666666666666666, \"#ed7953\"], [0.7777777777777778, \"#fb9f3a\"], [0.8888888888888888, \"#fdca26\"], [1.0, \"#f0f921\"]], \"type\": \"contour\"}], \"contourcarpet\": [{\"colorbar\": {\"outlinewidth\": 0, \"ticks\": \"\"}, \"type\": \"contourcarpet\"}], \"heatmap\": [{\"colorbar\": {\"outlinewidth\": 0, \"ticks\": \"\"}, \"colorscale\": [[0.0, \"#0d0887\"], [0.1111111111111111, \"#46039f\"], [0.2222222222222222, \"#7201a8\"], [0.3333333333333333, \"#9c179e\"], [0.4444444444444444, \"#bd3786\"], [0.5555555555555556, \"#d8576b\"], [0.6666666666666666, \"#ed7953\"], [0.7777777777777778, \"#fb9f3a\"], [0.8888888888888888, \"#fdca26\"], [1.0, \"#f0f921\"]], \"type\": \"heatmap\"}], \"heatmapgl\": [{\"colorbar\": {\"outlinewidth\": 0, \"ticks\": \"\"}, \"colorscale\": [[0.0, \"#0d0887\"], [0.1111111111111111, \"#46039f\"], [0.2222222222222222, \"#7201a8\"], [0.3333333333333333, \"#9c179e\"], [0.4444444444444444, \"#bd3786\"], [0.5555555555555556, \"#d8576b\"], [0.6666666666666666, \"#ed7953\"], [0.7777777777777778, \"#fb9f3a\"], [0.8888888888888888, \"#fdca26\"], [1.0, \"#f0f921\"]], \"type\": \"heatmapgl\"}], \"histogram\": [{\"marker\": {\"colorbar\": {\"outlinewidth\": 0, \"ticks\": \"\"}}, \"type\": \"histogram\"}], \"histogram2d\": [{\"colorbar\": {\"outlinewidth\": 0, \"ticks\": \"\"}, \"colorscale\": [[0.0, \"#0d0887\"], [0.1111111111111111, \"#46039f\"], [0.2222222222222222, \"#7201a8\"], [0.3333333333333333, \"#9c179e\"], [0.4444444444444444, \"#bd3786\"], [0.5555555555555556, \"#d8576b\"], [0.6666666666666666, \"#ed7953\"], [0.7777777777777778, \"#fb9f3a\"], [0.8888888888888888, \"#fdca26\"], [1.0, \"#f0f921\"]], \"type\": \"histogram2d\"}], \"histogram2dcontour\": [{\"colorbar\": {\"outlinewidth\": 0, \"ticks\": \"\"}, \"colorscale\": [[0.0, \"#0d0887\"], [0.1111111111111111, \"#46039f\"], [0.2222222222222222, \"#7201a8\"], [0.3333333333333333, \"#9c179e\"], [0.4444444444444444, \"#bd3786\"], [0.5555555555555556, \"#d8576b\"], [0.6666666666666666, \"#ed7953\"], [0.7777777777777778, \"#fb9f3a\"], [0.8888888888888888, \"#fdca26\"], [1.0, \"#f0f921\"]], \"type\": \"histogram2dcontour\"}], \"mesh3d\": [{\"colorbar\": {\"outlinewidth\": 0, \"ticks\": \"\"}, \"type\": \"mesh3d\"}], \"parcoords\": [{\"line\": {\"colorbar\": {\"outlinewidth\": 0, \"ticks\": \"\"}}, \"type\": \"parcoords\"}], \"pie\": [{\"automargin\": true, \"type\": \"pie\"}], \"scatter\": [{\"marker\": {\"colorbar\": {\"outlinewidth\": 0, \"ticks\": \"\"}}, \"type\": \"scatter\"}], \"scatter3d\": [{\"line\": {\"colorbar\": {\"outlinewidth\": 0, \"ticks\": \"\"}}, \"marker\": {\"colorbar\": {\"outlinewidth\": 0, \"ticks\": \"\"}}, \"type\": \"scatter3d\"}], \"scattercarpet\": [{\"marker\": {\"colorbar\": {\"outlinewidth\": 0, \"ticks\": \"\"}}, \"type\": \"scattercarpet\"}], \"scattergeo\": [{\"marker\": {\"colorbar\": {\"outlinewidth\": 0, \"ticks\": \"\"}}, \"type\": \"scattergeo\"}], \"scattergl\": [{\"marker\": {\"colorbar\": {\"outlinewidth\": 0, \"ticks\": \"\"}}, \"type\": \"scattergl\"}], \"scattermapbox\": [{\"marker\": {\"colorbar\": {\"outlinewidth\": 0, \"ticks\": \"\"}}, \"type\": \"scattermapbox\"}], \"scatterpolar\": [{\"marker\": {\"colorbar\": {\"outlinewidth\": 0, \"ticks\": \"\"}}, \"type\": \"scatterpolar\"}], \"scatterpolargl\": [{\"marker\": {\"colorbar\": {\"outlinewidth\": 0, \"ticks\": \"\"}}, \"type\": \"scatterpolargl\"}], \"scatterternary\": [{\"marker\": {\"colorbar\": {\"outlinewidth\": 0, \"ticks\": \"\"}}, \"type\": \"scatterternary\"}], \"surface\": [{\"colorbar\": {\"outlinewidth\": 0, \"ticks\": \"\"}, \"colorscale\": [[0.0, \"#0d0887\"], [0.1111111111111111, \"#46039f\"], [0.2222222222222222, \"#7201a8\"], [0.3333333333333333, \"#9c179e\"], [0.4444444444444444, \"#bd3786\"], [0.5555555555555556, \"#d8576b\"], [0.6666666666666666, \"#ed7953\"], [0.7777777777777778, \"#fb9f3a\"], [0.8888888888888888, \"#fdca26\"], [1.0, \"#f0f921\"]], \"type\": \"surface\"}], \"table\": [{\"cells\": {\"fill\": {\"color\": \"#EBF0F8\"}, \"line\": {\"color\": \"white\"}}, \"header\": {\"fill\": {\"color\": \"#C8D4E3\"}, \"line\": {\"color\": \"white\"}}, \"type\": \"table\"}]}, \"layout\": {\"annotationdefaults\": {\"arrowcolor\": \"#2a3f5f\", \"arrowhead\": 0, \"arrowwidth\": 1}, \"autotypenumbers\": \"strict\", \"coloraxis\": {\"colorbar\": {\"outlinewidth\": 0, \"ticks\": \"\"}}, \"colorscale\": {\"diverging\": [[0, \"#8e0152\"], [0.1, \"#c51b7d\"], [0.2, \"#de77ae\"], [0.3, \"#f1b6da\"], [0.4, \"#fde0ef\"], [0.5, \"#f7f7f7\"], [0.6, \"#e6f5d0\"], [0.7, \"#b8e186\"], [0.8, \"#7fbc41\"], [0.9, \"#4d9221\"], [1, \"#276419\"]], \"sequential\": [[0.0, \"#0d0887\"], [0.1111111111111111, \"#46039f\"], [0.2222222222222222, \"#7201a8\"], [0.3333333333333333, \"#9c179e\"], [0.4444444444444444, \"#bd3786\"], [0.5555555555555556, \"#d8576b\"], [0.6666666666666666, \"#ed7953\"], [0.7777777777777778, \"#fb9f3a\"], [0.8888888888888888, \"#fdca26\"], [1.0, \"#f0f921\"]], \"sequentialminus\": [[0.0, \"#0d0887\"], [0.1111111111111111, \"#46039f\"], [0.2222222222222222, \"#7201a8\"], [0.3333333333333333, \"#9c179e\"], [0.4444444444444444, \"#bd3786\"], [0.5555555555555556, \"#d8576b\"], [0.6666666666666666, \"#ed7953\"], [0.7777777777777778, \"#fb9f3a\"], [0.8888888888888888, \"#fdca26\"], [1.0, \"#f0f921\"]]}, \"colorway\": [\"#636efa\", \"#EF553B\", \"#00cc96\", \"#ab63fa\", \"#FFA15A\", \"#19d3f3\", \"#FF6692\", \"#B6E880\", \"#FF97FF\", \"#FECB52\"], \"font\": {\"color\": \"#2a3f5f\"}, \"geo\": {\"bgcolor\": \"white\", \"lakecolor\": \"white\", \"landcolor\": \"white\", \"showlakes\": true, \"showland\": true, \"subunitcolor\": \"#C8D4E3\"}, \"hoverlabel\": {\"align\": \"left\"}, \"hovermode\": \"closest\", \"mapbox\": {\"style\": \"light\"}, \"paper_bgcolor\": \"white\", \"plot_bgcolor\": \"white\", \"polar\": {\"angularaxis\": {\"gridcolor\": \"#EBF0F8\", \"linecolor\": \"#EBF0F8\", \"ticks\": \"\"}, \"bgcolor\": \"white\", \"radialaxis\": {\"gridcolor\": \"#EBF0F8\", \"linecolor\": \"#EBF0F8\", \"ticks\": \"\"}}, \"scene\": {\"xaxis\": {\"backgroundcolor\": \"white\", \"gridcolor\": \"#DFE8F3\", \"gridwidth\": 2, \"linecolor\": \"#EBF0F8\", \"showbackground\": true, \"ticks\": \"\", \"zerolinecolor\": \"#EBF0F8\"}, \"yaxis\": {\"backgroundcolor\": \"white\", \"gridcolor\": \"#DFE8F3\", \"gridwidth\": 2, \"linecolor\": \"#EBF0F8\", \"showbackground\": true, \"ticks\": \"\", \"zerolinecolor\": \"#EBF0F8\"}, \"zaxis\": {\"backgroundcolor\": \"white\", \"gridcolor\": \"#DFE8F3\", \"gridwidth\": 2, \"linecolor\": \"#EBF0F8\", \"showbackground\": true, \"ticks\": \"\", \"zerolinecolor\": \"#EBF0F8\"}}, \"shapedefaults\": {\"line\": {\"color\": \"#2a3f5f\"}}, \"ternary\": {\"aaxis\": {\"gridcolor\": \"#DFE8F3\", \"linecolor\": \"#A2B1C6\", \"ticks\": \"\"}, \"baxis\": {\"gridcolor\": \"#DFE8F3\", \"linecolor\": \"#A2B1C6\", \"ticks\": \"\"}, \"bgcolor\": \"white\", \"caxis\": {\"gridcolor\": \"#DFE8F3\", \"linecolor\": \"#A2B1C6\", \"ticks\": \"\"}}, \"title\": {\"x\": 0.05}, \"xaxis\": {\"automargin\": true, \"gridcolor\": \"#EBF0F8\", \"linecolor\": \"#EBF0F8\", \"ticks\": \"\", \"title\": {\"standoff\": 15}, \"zerolinecolor\": \"#EBF0F8\", \"zerolinewidth\": 2}, \"yaxis\": {\"automargin\": true, \"gridcolor\": \"#EBF0F8\", \"linecolor\": \"#EBF0F8\", \"ticks\": \"\", \"title\": {\"standoff\": 15}, \"zerolinecolor\": \"#EBF0F8\", \"zerolinewidth\": 2}}}, \"title\": {\"text\": \"Exon Plot\"}, \"width\": 800, \"xaxis\": {\"range\": [32315085, 32400275.5], \"title\": {\"text\": \"Position\"}}, \"yaxis\": {\"range\": [-0.6, 4.6], \"tickmode\": \"array\", \"ticktext\": [\"ENST00000544455\", \"ENST00000530893\", \"ENST00000380152\", \"ENST00000680887\", \"ENST00000700202\"], \"tickvals\": [0.25, 1.25, 2.25, 3.25, 4.25], \"title\": {\"text\": \"Transcript\"}}},                        {\"responsive\": true}                    ).then(function(){\n",
       "                            \n",
       "var gd = document.getElementById('564e97df-1868-4b57-9324-5a6e84f5134c');\n",
       "var x = new MutationObserver(function (mutations, observer) {{\n",
       "        var display = window.getComputedStyle(gd).display;\n",
       "        if (!display || display === 'none') {{\n",
       "            console.log([gd, 'removed!']);\n",
       "            Plotly.purge(gd);\n",
       "            observer.disconnect();\n",
       "        }}\n",
       "}});\n",
       "\n",
       "// Listen for the removal of the full notebook cells\n",
       "var notebookContainer = gd.closest('#notebook-container');\n",
       "if (notebookContainer) {{\n",
       "    x.observe(notebookContainer, {childList: true});\n",
       "}}\n",
       "\n",
       "// Listen for the clearing of the current output cell\n",
       "var outputEl = gd.closest('.output');\n",
       "if (outputEl) {{\n",
       "    x.observe(outputEl, {childList: true});\n",
       "}}\n",
       "\n",
       "                        })                };                });            </script>        </div>"
      ]
     },
     "metadata": {},
     "output_type": "display_data"
    }
   ],
   "source": [
    "# define colors for transcripts\n",
    "lCol = ['#e41a1c', '#377eb8', '#4daf4a', '#984ea3', '#ff7f00', '#ffff33', '#a65628', '#f781bf']\n",
    "\n",
    "colors = dict(zip(transcripts.keys(),lCol))\n",
    "\n",
    "# define spacing between exon boxes\n",
    "box_spacing = 0.5\n",
    "\n",
    "# create the figure\n",
    "fig = go.Figure()\n",
    "\n",
    "# loop over transcripts\n",
    "for i, transcript in enumerate(transcripts):\n",
    "    # create the transcript line\n",
    "    fig.add_shape(type='line',\n",
    "                  x0=min(exons[e][0] for e in transcripts[transcript]),\n",
    "                  y0=i + 0.25,\n",
    "                  x1=max(exons[e][1] for e in transcripts[transcript]),\n",
    "                  y1=i + 0.25,\n",
    "                  line=dict(color='black', width=2))\n",
    "\n",
    "    # loop over exons in transcript\n",
    "    for j, exon in enumerate(transcripts[transcript]):\n",
    "        # determine x-coordinates of exon box\n",
    "        x0 = exons[exon][0]\n",
    "        x1 = exons[exon][1]\n",
    "        width = x1 - x0\n",
    "\n",
    "        # add exon box to figure\n",
    "        fig.add_shape(type='rect',\n",
    "                      x0=x0,\n",
    "                      y0=i,\n",
    "                      x1=x1,\n",
    "                      y1=i + 0.5,\n",
    "                      fillcolor=colors[transcript],\n",
    "                      #line=dict(color='black'),\n",
    "                      opacity=1)\n",
    "\n",
    "# set x-axis range\n",
    "x_range = [min(exons[e][0] for t in transcripts.values() for e in t) - 1, max(exons[e][1] for t in transcripts.values() for e in t) + len(transcripts) * (box_spacing + 1)]\n",
    "fig.update_xaxes(range=x_range)\n",
    "\n",
    "# Add primers\n",
    "for primer in primers:\n",
    "    fig.add_shape(type='line',\n",
    "                  x0=primers[primer][0],\n",
    "                  y0=0.2,\n",
    "                  x1=primers[primer][1],\n",
    "                  y1=0.2,\n",
    "                  line=dict(color='black', width=3),\n",
    "                  yref='paper')\n",
    "    fig.add_annotation(text=primer,\n",
    "                       x=(primers[primer][0]+primers[primer][1])/2,\n",
    "                       y=0.1,\n",
    "                       showarrow=False,\n",
    "                       yref='paper')\n",
    "\n",
    "# set layout properties\n",
    "fig.update_layout(\n",
    "    title='Exon Plot',\n",
    "    xaxis_title='Position',\n",
    "    yaxis_title='Transcript',\n",
    "    showlegend=False,\n",
    "    height=500,\n",
    "    width=800,\n",
    ")\n",
    "\n",
    "fig.update_layout(template=\"plotly_white\")\n",
    "fig.update_layout(yaxis=dict(tickmode='array',\n",
    "                             tickvals=[x + 0.25 for x in list(range(len(transcripts))) ],\n",
    "                             ticktext=list(transcripts.keys()),\n",
    "                             range=[-1, len(transcripts)-0.4]))\n",
    "# show the figure\n",
    "fig.show()"
   ]
  },
  {
   "cell_type": "code",
   "execution_count": 32,
   "id": "22764eef",
   "metadata": {},
   "outputs": [],
   "source": [
    "from ExonSurfer.ensembl import ensembl\n",
    "\n",
    "\n",
    "def get_exon_transcript_information(species = None, symbol=None,release=108):\n",
    "    \"\"\"\n",
    "    Function that obtain the information of the transcripts and exons positions of a gene\n",
    "    Args:\n",
    "        species (string): Species name\n",
    "        symbol (string): Gene symbol\n",
    "        release (int): Ensembl release\n",
    "    Returns:\n",
    "        transcripts (dictionary): Dictionary with the exons of each transcript\n",
    "        exons (dictionary): Dictionary with exons positions\n",
    "    \"\"\"\n",
    "\n",
    "    data = ensembl.create_ensembl_data(release, \n",
    "                                       species)\n",
    "\n",
    "    gene_obj = ensembl.get_gene_by_symbol(symbol, data)\n",
    "        \n",
    "    d = ensembl.get_transcripts_dict(gene_obj, exclude_noncoding = True)\n",
    "    \n",
    "    return d"
   ]
  },
  {
   "cell_type": "code",
   "execution_count": 36,
   "id": "ca735c10",
   "metadata": {},
   "outputs": [],
   "source": [
    "def get_transcripts_exons_dict(gene):\n",
    "    \"\"\"\n",
    "    This function takes a gene object and returns a dictionary of transcript\n",
    "    objects, with transcript ID as keys, and exon objects as values.\n",
    "    Args:\n",
    "        gene [in] (gene object)   Gene object\n",
    "        exclude_noncoding [in] (bool) False if all transcripts, True to exclude non\n",
    "                          coding\n",
    "        dTranscripts [out] (dict) Dictionary of transcript objects, with\n",
    "                     transcript ID as keys, and exon objects as values\n",
    "    \"\"\"\n",
    "    dT = {}\n",
    "    dE = {}\n",
    "    \n",
    "    # get list of transcripts to iterate\n",
    "    all_transcripts = ensembl.get_transcript_from_gene(gene)\n",
    "\n",
    "    tcripts = ensembl.get_coding_transcript(all_transcripts)\n",
    "    \n",
    "\n",
    "    for tcript in tcripts:\n",
    "        dT[tcript.id] = ensembl.get_exons_from_transcript(tcript)\n",
    "\n",
    "        for exon in tcript.exons:\n",
    "            dE[exon.id] = (exon.start, exon.end) \n",
    "    return dT,dE\n",
    "\n",
    "def get_exon_transcript_information(species = None, symbol=None,release=108):\n",
    "    \"\"\"\n",
    "    Function that obtain the information of the transcripts and exons positions of a gene\n",
    "    Args:\n",
    "        species (string): Species name\n",
    "        symbol (string): Gene symbol\n",
    "        release (int): Ensembl release\n",
    "    Returns:\n",
    "        transcripts (dictionary): Dictionary with the exons of each transcript\n",
    "        exons (dictionary): Dictionary with exons positions\n",
    "    \"\"\"\n",
    "\n",
    "    data = ensembl.create_ensembl_data(release, \n",
    "                                       species)\n",
    "\n",
    "    gene_obj = ensembl.get_gene_by_symbol(symbol, data)\n",
    "        \n",
    "    dT,dE = get_transcripts_exons_dict(gene_obj)\n",
    "\n",
    "    return dT,dE"
   ]
  },
  {
   "cell_type": "code",
   "execution_count": 37,
   "id": "7daa195a",
   "metadata": {},
   "outputs": [
    {
     "data": {
      "text/plain": [
       "({'ENST00000544455': ['ENSE00003856928',\n",
       "   'ENSE00001484009',\n",
       "   'ENSE00003666217',\n",
       "   'ENSE00003659301',\n",
       "   'ENSE00003739878',\n",
       "   'ENSE00003747332',\n",
       "   'ENSE00003749714',\n",
       "   'ENSE00003714754',\n",
       "   'ENSE00003731761',\n",
       "   'ENSE00000939167',\n",
       "   'ENSE00000939168',\n",
       "   'ENSE00000939169',\n",
       "   'ENSE00000939171',\n",
       "   'ENSE00000939173',\n",
       "   'ENSE00000939174',\n",
       "   'ENSE00000939175',\n",
       "   'ENSE00001394102',\n",
       "   'ENSE00000939177',\n",
       "   'ENSE00000939178',\n",
       "   'ENSE00000939180',\n",
       "   'ENSE00003461148',\n",
       "   'ENSE00000939183',\n",
       "   'ENSE00000939185',\n",
       "   'ENSE00000939187',\n",
       "   'ENSE00000939189',\n",
       "   'ENSE00003560258',\n",
       "   'ENSE00003717596'],\n",
       "  'ENST00000530893': ['ENSE00002143308',\n",
       "   'ENSE00003339705',\n",
       "   'ENSE00003563161',\n",
       "   'ENSE00003857483',\n",
       "   'ENSE00003739878',\n",
       "   'ENSE00003747332',\n",
       "   'ENSE00003749714',\n",
       "   'ENSE00003714754',\n",
       "   'ENSE00003731761',\n",
       "   'ENSE00002163180'],\n",
       "  'ENST00000380152': ['ENSE00001184784',\n",
       "   'ENSE00001484009',\n",
       "   'ENSE00003666217',\n",
       "   'ENSE00003659301',\n",
       "   'ENSE00003739878',\n",
       "   'ENSE00003747332',\n",
       "   'ENSE00003749714',\n",
       "   'ENSE00003714754',\n",
       "   'ENSE00003731761',\n",
       "   'ENSE00000939167',\n",
       "   'ENSE00000939168',\n",
       "   'ENSE00000939169',\n",
       "   'ENSE00000939171',\n",
       "   'ENSE00000939173',\n",
       "   'ENSE00000939174',\n",
       "   'ENSE00000939175',\n",
       "   'ENSE00001394102',\n",
       "   'ENSE00000939177',\n",
       "   'ENSE00000939178',\n",
       "   'ENSE00000939180',\n",
       "   'ENSE00003461148',\n",
       "   'ENSE00000939183',\n",
       "   'ENSE00000939185',\n",
       "   'ENSE00000939187',\n",
       "   'ENSE00000939189',\n",
       "   'ENSE00003560258',\n",
       "   'ENSE00003717596'],\n",
       "  'ENST00000680887': ['ENSE00003854030',\n",
       "   'ENSE00001484009',\n",
       "   'ENSE00003666217',\n",
       "   'ENSE00003659301',\n",
       "   'ENSE00003739878',\n",
       "   'ENSE00003747332',\n",
       "   'ENSE00003749714',\n",
       "   'ENSE00003714754',\n",
       "   'ENSE00003731761',\n",
       "   'ENSE00000939167',\n",
       "   'ENSE00000939168',\n",
       "   'ENSE00000939169',\n",
       "   'ENSE00000939171',\n",
       "   'ENSE00000939173',\n",
       "   'ENSE00000939174',\n",
       "   'ENSE00000939175',\n",
       "   'ENSE00001394102',\n",
       "   'ENSE00000939177',\n",
       "   'ENSE00000939178',\n",
       "   'ENSE00000939180',\n",
       "   'ENSE00003461148',\n",
       "   'ENSE00000939183',\n",
       "   'ENSE00000939185',\n",
       "   'ENSE00000939187',\n",
       "   'ENSE00000939189',\n",
       "   'ENSE00003560258',\n",
       "   'ENSE00003717596'],\n",
       "  'ENST00000700202': ['ENSE00003979131',\n",
       "   'ENSE00000939175',\n",
       "   'ENSE00001394102',\n",
       "   'ENSE00000939177',\n",
       "   'ENSE00000939178',\n",
       "   'ENSE00000939180',\n",
       "   'ENSE00003461148',\n",
       "   'ENSE00000939183',\n",
       "   'ENSE00003979126',\n",
       "   'ENSE00000939187',\n",
       "   'ENSE00000939189',\n",
       "   'ENSE00003560258',\n",
       "   'ENSE00003979132']},\n",
       " {'ENSE00003856928': (32315086, 32315145),\n",
       "  'ENSE00001484009': (32316422, 32316527),\n",
       "  'ENSE00003666217': (32319077, 32319325),\n",
       "  'ENSE00003659301': (32325076, 32325184),\n",
       "  'ENSE00003739878': (32326101, 32326150),\n",
       "  'ENSE00003747332': (32326242, 32326282),\n",
       "  'ENSE00003749714': (32326499, 32326613),\n",
       "  'ENSE00003714754': (32329443, 32329492),\n",
       "  'ENSE00003731761': (32330919, 32331030),\n",
       "  'ENSE00000939167': (32332272, 32333387),\n",
       "  'ENSE00000939168': (32336265, 32341196),\n",
       "  'ENSE00000939169': (32344558, 32344653),\n",
       "  'ENSE00000939171': (32346827, 32346896),\n",
       "  'ENSE00000939173': (32354861, 32355288),\n",
       "  'ENSE00000939174': (32356428, 32356609),\n",
       "  'ENSE00000939175': (32357742, 32357929),\n",
       "  'ENSE00001394102': (32362523, 32362693),\n",
       "  'ENSE00000939177': (32363179, 32363533),\n",
       "  'ENSE00000939178': (32370402, 32370557),\n",
       "  'ENSE00000939180': (32370956, 32371100),\n",
       "  'ENSE00003461148': (32376670, 32376791),\n",
       "  'ENSE00000939183': (32379317, 32379515),\n",
       "  'ENSE00000939185': (32379750, 32379913),\n",
       "  'ENSE00000939187': (32380007, 32380145),\n",
       "  'ENSE00000939189': (32394689, 32394933),\n",
       "  'ENSE00003560258': (32396898, 32397044),\n",
       "  'ENSE00003717596': (32398162, 32400268),\n",
       "  'ENSE00002143308': (32315505, 32315667),\n",
       "  'ENSE00003339705': (32316422, 32316523),\n",
       "  'ENSE00003563161': (32319077, 32319325),\n",
       "  'ENSE00003857483': (32325076, 32325184),\n",
       "  'ENSE00002163180': (32332272, 32333291),\n",
       "  'ENSE00001184784': (32315508, 32315667),\n",
       "  'ENSE00003854030': (32316072, 32316157),\n",
       "  'ENSE00003979131': (32356526, 32356609),\n",
       "  'ENSE00003979126': (32379801, 32379913),\n",
       "  'ENSE00003979132': (32398162, 32398770)})"
      ]
     },
     "execution_count": 37,
     "metadata": {},
     "output_type": "execute_result"
    }
   ],
   "source": []
  },
  {
   "cell_type": "code",
   "execution_count": null,
   "id": "467948c5",
   "metadata": {},
   "outputs": [],
   "source": []
  }
 ],
 "metadata": {
  "kernelspec": {
   "display_name": "Python 3",
   "language": "python",
   "name": "python3"
  },
  "language_info": {
   "codemirror_mode": {
    "name": "ipython",
    "version": 3
   },
   "file_extension": ".py",
   "mimetype": "text/x-python",
   "name": "python",
   "nbconvert_exporter": "python",
   "pygments_lexer": "ipython3",
   "version": "3.8.10"
  }
 },
 "nbformat": 4,
 "nbformat_minor": 5
}
