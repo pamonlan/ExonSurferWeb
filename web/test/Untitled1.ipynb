{
 "cells": [
  {
   "cell_type": "code",
   "execution_count": 1,
   "id": "6da8ed2e",
   "metadata": {},
   "outputs": [],
   "source": [
    "from primerblast.models import Session, PrimerConfig\n",
    "import os\n",
    "import django\n",
    "os.environ.setdefault('DJANGO_SETTINGS_MODULE', 'rest.settings')\n",
    "os.environ[\"DJANGO_ALLOW_ASYNC_UNSAFE\"] = \"true\"\n",
    "django.setup()"
   ]
  },
  {
   "cell_type": "code",
   "execution_count": 2,
   "id": "2e96f5fc",
   "metadata": {},
   "outputs": [],
   "source": [
    "session = Session.objects.filter(symbol=\"DMD\", species=\"homo_sapiens\",transcript= \"ALL\")"
   ]
  },
  {
   "cell_type": "code",
   "execution_count": 9,
   "id": "11d077d0",
   "metadata": {},
   "outputs": [
    {
     "data": {
      "text/plain": [
       "[True, True, True, True]"
      ]
     },
     "execution_count": 9,
     "metadata": {},
     "output_type": "execute_result"
    }
   ],
   "source": [
    "[x.primer_config == session[3].primer_config for x in session]"
   ]
  },
  {
   "cell_type": "code",
   "execution_count": 8,
   "id": "78ea5411",
   "metadata": {},
   "outputs": [
    {
     "data": {
      "text/plain": [
       "<QuerySet [<Session: ec37d7fe-ae31-4d16-94b8-7b9a7e19b25c: homo_sapiens DMD ALL>]>"
      ]
     },
     "execution_count": 8,
     "metadata": {},
     "output_type": "execute_result"
    }
   ],
   "source": [
    "Session.objects.filter(symbol=\"DMD\", species=\"homo_sapiens\",transcript= \"ALL\", primer_config = session[2].primer_config)"
   ]
  },
  {
   "cell_type": "code",
   "execution_count": 5,
   "id": "45e2341e",
   "metadata": {},
   "outputs": [
    {
     "data": {
      "text/plain": [
       "{'_state': <django.db.models.base.ModelState at 0x7fe75755a130>,\n",
       " 'id': 70,\n",
       " 'primer_opt_size': 20,\n",
       " 'primer_min_size': 17,\n",
       " 'primer_max_size': 35,\n",
       " 'primer_opt_tm': 59.0,\n",
       " 'primer_min_tm': 57.5,\n",
       " 'primer_max_tm': 60.5,\n",
       " 'primer_opt_gc': 50,\n",
       " 'primer_min_gc': 20,\n",
       " 'primer_max_gc': 80,\n",
       " 'primer_product_size_min': 60,\n",
       " 'primer_product_size_opt': 200,\n",
       " 'primer_product_size_max': 250,\n",
       " 'primer_product_opt_tm': 80.0,\n",
       " 'primer_product_min_tm': 65.0,\n",
       " 'primer_product_max_tm': 90.0,\n",
       " 'primer_salt_divalent': 1.5,\n",
       " 'primer_salt_monovalent': 50.0,\n",
       " 'primer_dntp_conc': 0.6}"
      ]
     },
     "execution_count": 5,
     "metadata": {},
     "output_type": "execute_result"
    }
   ],
   "source": [
    "session[2].primer_config.__dict__"
   ]
  },
  {
   "cell_type": "code",
   "execution_count": 6,
   "id": "e9f82c7d",
   "metadata": {},
   "outputs": [
    {
     "data": {
      "text/plain": [
       "{'_state': <django.db.models.base.ModelState at 0x7fe75755acd0>,\n",
       " 'id': 71,\n",
       " 'primer_opt_size': 20,\n",
       " 'primer_min_size': 17,\n",
       " 'primer_max_size': 35,\n",
       " 'primer_opt_tm': 59.0,\n",
       " 'primer_min_tm': 57.5,\n",
       " 'primer_max_tm': 60.5,\n",
       " 'primer_opt_gc': 50,\n",
       " 'primer_min_gc': 20,\n",
       " 'primer_max_gc': 80,\n",
       " 'primer_product_size_min': 60,\n",
       " 'primer_product_size_opt': 200,\n",
       " 'primer_product_size_max': 250,\n",
       " 'primer_product_opt_tm': 80.0,\n",
       " 'primer_product_min_tm': 65.0,\n",
       " 'primer_product_max_tm': 90.0,\n",
       " 'primer_salt_divalent': 1.5,\n",
       " 'primer_salt_monovalent': 50.0,\n",
       " 'primer_dntp_conc': 0.6}"
      ]
     },
     "execution_count": 6,
     "metadata": {},
     "output_type": "execute_result"
    }
   ],
   "source": [
    "session[3].primer_config.__dict__"
   ]
  },
  {
   "cell_type": "code",
   "execution_count": 7,
   "id": "539cc38a",
   "metadata": {},
   "outputs": [
    {
     "ename": "NameError",
     "evalue": "name 'lAttr' is not defined",
     "output_type": "error",
     "traceback": [
      "\u001b[0;31m---------------------------------------------------------------------------\u001b[0m",
      "\u001b[0;31mNameError\u001b[0m                                 Traceback (most recent call last)",
      "\u001b[0;32m<ipython-input-7-6c46ec52f689>\u001b[0m in \u001b[0;36m<module>\u001b[0;34m\u001b[0m\n\u001b[0;32m----> 1\u001b[0;31m \u001b[0mlAttr\u001b[0m\u001b[0;34m\u001b[0m\u001b[0;34m\u001b[0m\u001b[0m\n\u001b[0m",
      "\u001b[0;31mNameError\u001b[0m: name 'lAttr' is not defined"
     ]
    }
   ],
   "source": [
    "lAttr"
   ]
  },
  {
   "cell_type": "code",
   "execution_count": null,
   "id": "60eb1ce4",
   "metadata": {},
   "outputs": [],
   "source": []
  }
 ],
 "metadata": {
  "kernelspec": {
   "display_name": "Django Shell-Plus",
   "language": "python",
   "name": "django_extensions"
  },
  "language_info": {
   "codemirror_mode": {
    "name": "ipython",
    "version": 3
   },
   "file_extension": ".py",
   "mimetype": "text/x-python",
   "name": "python",
   "nbconvert_exporter": "python",
   "pygments_lexer": "ipython3",
   "version": "3.8.10"
  }
 },
 "nbformat": 4,
 "nbformat_minor": 5
}
